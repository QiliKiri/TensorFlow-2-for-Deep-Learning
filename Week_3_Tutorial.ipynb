{
  "nbformat": 4,
  "nbformat_minor": 0,
  "metadata": {
    "kernelspec": {
      "display_name": "Python 3",
      "language": "python",
      "name": "python3"
    },
    "language_info": {
      "codemirror_mode": {
        "name": "ipython",
        "version": 3
      },
      "file_extension": ".py",
      "mimetype": "text/x-python",
      "name": "python",
      "nbconvert_exporter": "python",
      "pygments_lexer": "ipython3",
      "version": "3.7.1"
    },
    "colab": {
      "name": "Week_3_Tutorial",
      "provenance": [],
      "collapsed_sections": [],
      "include_colab_link": true
    },
    "accelerator": "GPU"
  },
  "cells": [
    {
      "cell_type": "markdown",
      "metadata": {
        "id": "view-in-github",
        "colab_type": "text"
      },
      "source": [
        "<a href=\"https://colab.research.google.com/github/QiliKiri/TensorFlow-2-for-Deep-Learning/blob/main/Week_3_Tutorial.ipynb\" target=\"_parent\"><img src=\"https://colab.research.google.com/assets/colab-badge.svg\" alt=\"Open In Colab\"/></a>"
      ]
    },
    {
      "cell_type": "code",
      "metadata": {
        "scrolled": true,
        "id": "ZX5mYNXKj83B",
        "colab": {
          "base_uri": "https://localhost:8080/"
        },
        "outputId": "a97af714-01af-46c2-c421-fbb3713dbab9"
      },
      "source": [
        "import tensorflow as tf\n",
        "print(tf.__version__)"
      ],
      "execution_count": 1,
      "outputs": [
        {
          "output_type": "stream",
          "text": [
            "2.5.0\n"
          ],
          "name": "stdout"
        }
      ]
    },
    {
      "cell_type": "markdown",
      "metadata": {
        "id": "pcRtdjegj83F"
      },
      "source": [
        "# Validation, regularisation and callbacks"
      ]
    },
    {
      "cell_type": "markdown",
      "metadata": {
        "id": "9YP-XIvyj83H"
      },
      "source": [
        " ## Coding tutorials\n",
        " #### [1. Validation sets](#coding_tutorial_1)\n",
        " #### [2. Model regularisation](#coding_tutorial_2)\n",
        " #### [3. Introduction to callbacks](#coding_tutorial_3)\n",
        " #### [4. Early stopping / patience](#coding_tutorial_4)"
      ]
    },
    {
      "cell_type": "markdown",
      "metadata": {
        "id": "lFSVFYGVj83I"
      },
      "source": [
        "***\n",
        "<a id=\"coding_tutorial_1\"></a>\n",
        "## Validation sets"
      ]
    },
    {
      "cell_type": "markdown",
      "metadata": {
        "id": "hbo2_TcIj83J"
      },
      "source": [
        "#### Load the data"
      ]
    },
    {
      "cell_type": "code",
      "metadata": {
        "id": "B10rmeQzj83J",
        "colab": {
          "base_uri": "https://localhost:8080/"
        },
        "outputId": "ce2f6823-1046-4f70-cd2b-99c6ae2df26c"
      },
      "source": [
        "# Load the diabetes dataset\n",
        "from sklearn.datasets import load_diabetes\n",
        "diabetes_dataset = load_diabetes()\n",
        "print(diabetes_dataset['DESCR'])"
      ],
      "execution_count": 2,
      "outputs": [
        {
          "output_type": "stream",
          "text": [
            ".. _diabetes_dataset:\n",
            "\n",
            "Diabetes dataset\n",
            "----------------\n",
            "\n",
            "Ten baseline variables, age, sex, body mass index, average blood\n",
            "pressure, and six blood serum measurements were obtained for each of n =\n",
            "442 diabetes patients, as well as the response of interest, a\n",
            "quantitative measure of disease progression one year after baseline.\n",
            "\n",
            "**Data Set Characteristics:**\n",
            "\n",
            "  :Number of Instances: 442\n",
            "\n",
            "  :Number of Attributes: First 10 columns are numeric predictive values\n",
            "\n",
            "  :Target: Column 11 is a quantitative measure of disease progression one year after baseline\n",
            "\n",
            "  :Attribute Information:\n",
            "      - Age\n",
            "      - Sex\n",
            "      - Body mass index\n",
            "      - Average blood pressure\n",
            "      - S1\n",
            "      - S2\n",
            "      - S3\n",
            "      - S4\n",
            "      - S5\n",
            "      - S6\n",
            "\n",
            "Note: Each of these 10 feature variables have been mean centered and scaled by the standard deviation times `n_samples` (i.e. the sum of squares of each column totals 1).\n",
            "\n",
            "Source URL:\n",
            "https://www4.stat.ncsu.edu/~boos/var.select/diabetes.html\n",
            "\n",
            "For more information see:\n",
            "Bradley Efron, Trevor Hastie, Iain Johnstone and Robert Tibshirani (2004) \"Least Angle Regression,\" Annals of Statistics (with discussion), 407-499.\n",
            "(https://web.stanford.edu/~hastie/Papers/LARS/LeastAngle_2002.pdf)\n"
          ],
          "name": "stdout"
        }
      ]
    },
    {
      "cell_type": "code",
      "metadata": {
        "id": "2g680q-Vj83K"
      },
      "source": [
        "# Save the input and target variables\n",
        "data = diabetes_dataset['data']\n",
        "targets = diabetes_dataset['target']"
      ],
      "execution_count": 3,
      "outputs": []
    },
    {
      "cell_type": "code",
      "metadata": {
        "id": "GAHAc_hoj83L"
      },
      "source": [
        "# Normalise the target data (this will make clearer training curves)\n",
        "targets = (targets-targets.mean(axis=0)) / targets.std()"
      ],
      "execution_count": 4,
      "outputs": []
    },
    {
      "cell_type": "code",
      "metadata": {
        "id": "-9rCavXnj83M"
      },
      "source": [
        "# Split the data into train and test sets\n",
        "from sklearn.model_selection import train_test_split\n",
        "train_data, test_data, train_targets, test_targets = train_test_split(data, targets, test_size=0.1)\n"
      ],
      "execution_count": 5,
      "outputs": []
    },
    {
      "cell_type": "markdown",
      "metadata": {
        "id": "BKVFvMKMj83N"
      },
      "source": [
        "#### Train a feedforward neural network model"
      ]
    },
    {
      "cell_type": "code",
      "metadata": {
        "id": "fNskdj9Nj83O"
      },
      "source": [
        "# Build the model\n",
        "from tensorflow.keras.models import Sequential\n",
        "from tensorflow.keras.layers import Dense\n",
        "\n",
        "def get_model():\n",
        "  model = Sequential([\n",
        "                      Dense(128, activation='relu', input_shape=(train_data.shape[1],)),\n",
        "                      Dense(128, activation='relu'),\n",
        "                      Dense(128, activation='relu'),\n",
        "                      Dense(128, activation='relu'),\n",
        "                      Dense(128, activation='relu'),\n",
        "                      Dense(128, activation='relu'),\n",
        "                      Dense(1)\n",
        "  ])\n",
        "  return model\n",
        "\n",
        "model = get_model()"
      ],
      "execution_count": 6,
      "outputs": []
    },
    {
      "cell_type": "code",
      "metadata": {
        "id": "NHhfYvPhj83O",
        "colab": {
          "base_uri": "https://localhost:8080/"
        },
        "outputId": "fc850e12-3b21-4dc3-c6e0-884ddf2f1d3d"
      },
      "source": [
        "# Print the model summary\n",
        "model.summary()\n"
      ],
      "execution_count": 7,
      "outputs": [
        {
          "output_type": "stream",
          "text": [
            "Model: \"sequential\"\n",
            "_________________________________________________________________\n",
            "Layer (type)                 Output Shape              Param #   \n",
            "=================================================================\n",
            "dense (Dense)                (None, 128)               1408      \n",
            "_________________________________________________________________\n",
            "dense_1 (Dense)              (None, 128)               16512     \n",
            "_________________________________________________________________\n",
            "dense_2 (Dense)              (None, 128)               16512     \n",
            "_________________________________________________________________\n",
            "dense_3 (Dense)              (None, 128)               16512     \n",
            "_________________________________________________________________\n",
            "dense_4 (Dense)              (None, 128)               16512     \n",
            "_________________________________________________________________\n",
            "dense_5 (Dense)              (None, 128)               16512     \n",
            "_________________________________________________________________\n",
            "dense_6 (Dense)              (None, 1)                 129       \n",
            "=================================================================\n",
            "Total params: 84,097\n",
            "Trainable params: 84,097\n",
            "Non-trainable params: 0\n",
            "_________________________________________________________________\n"
          ],
          "name": "stdout"
        }
      ]
    },
    {
      "cell_type": "code",
      "metadata": {
        "id": "glizm_nwj83P"
      },
      "source": [
        "# Compile the model\n",
        "model.compile(optimizer='adam', loss='mse', metrics=['mae'])\n"
      ],
      "execution_count": 8,
      "outputs": []
    },
    {
      "cell_type": "code",
      "metadata": {
        "id": "bsC7JrSRj83P"
      },
      "source": [
        "# Train the model, with some of the data reserved for validation\n",
        "history = model.fit(train_data, train_targets, epochs=100, validation_split=0.15, batch_size=64, verbose=False)\n"
      ],
      "execution_count": 9,
      "outputs": []
    },
    {
      "cell_type": "code",
      "metadata": {
        "id": "BxAkQZPoj83Q",
        "colab": {
          "base_uri": "https://localhost:8080/"
        },
        "outputId": "bef75937-9b4f-4abb-b5a3-41bb564f1659"
      },
      "source": [
        "# Evaluate the model on the test set\n",
        "\n",
        "model.evaluate(test_data, test_targets, verbose=2)"
      ],
      "execution_count": 10,
      "outputs": [
        {
          "output_type": "stream",
          "text": [
            "2/2 - 0s - loss: 1.1013 - mae: 0.7902\n"
          ],
          "name": "stdout"
        },
        {
          "output_type": "execute_result",
          "data": {
            "text/plain": [
              "[1.101285696029663, 0.7902426719665527]"
            ]
          },
          "metadata": {
            "tags": []
          },
          "execution_count": 10
        }
      ]
    },
    {
      "cell_type": "markdown",
      "metadata": {
        "id": "KJ-tVH6Uj83Q"
      },
      "source": [
        "#### Plot the learning curves"
      ]
    },
    {
      "cell_type": "code",
      "metadata": {
        "id": "1fcx-mK0j83Q"
      },
      "source": [
        "import matplotlib.pyplot as plt\n",
        "%matplotlib inline"
      ],
      "execution_count": 11,
      "outputs": []
    },
    {
      "cell_type": "code",
      "metadata": {
        "id": "EOB35gfyj83Q",
        "colab": {
          "base_uri": "https://localhost:8080/",
          "height": 295
        },
        "outputId": "f2680ad8-198d-43c9-f72b-932f479f5258"
      },
      "source": [
        "# Plot the training and validation loss\n",
        "\n",
        "plt.plot(history.history['loss'])\n",
        "plt.plot(history.history['val_loss'])\n",
        "plt.title('Loss vs. epochs')\n",
        "plt.ylabel('Loss')\n",
        "plt.xlabel('Epoch')\n",
        "plt.legend(['Training', 'Validation'], loc='upper right')\n",
        "plt.show()"
      ],
      "execution_count": 12,
      "outputs": [
        {
          "output_type": "display_data",
          "data": {
            "image/png": "[encoded data removed]",
            "text/plain": [
              "<Figure size 432x288 with 1 Axes>"
            ]
          },
          "metadata": {
            "tags": [],
            "needs_background": "light"
          }
        }
      ]
    },
    {
      "cell_type": "markdown",
      "metadata": {
        "id": "ivW5QL5cj83R"
      },
      "source": [
        "***\n",
        "<a id=\"coding_tutorial_2\"></a>\n",
        "## Model regularisation"
      ]
    },
    {
      "cell_type": "markdown",
      "metadata": {
        "id": "P576jeD6j83R"
      },
      "source": [
        "#### Adding regularisation with weight decay and dropout"
      ]
    },
    {
      "cell_type": "code",
      "metadata": {
        "id": "kRFsZLXCj83R"
      },
      "source": [
        "from tensorflow.keras.layers import Dropout\n",
        "from tensorflow.keras import regularizers"
      ],
      "execution_count": 13,
      "outputs": []
    },
    {
      "cell_type": "code",
      "metadata": {
        "id": "VlUSzmEOj83R"
      },
      "source": [
        "def get_regularised_model(wd, rate):\n",
        "    model = Sequential([\n",
        "        Dense(128, kernel_regularizer=regularizers.l2(wd), activation=\"relu\", input_shape=(train_data.shape[1],)),\n",
        "        Dropout(rate),\n",
        "        Dense(128, kernel_regularizer=regularizers.l2(wd), activation=\"relu\"),\n",
        "        Dropout(rate),\n",
        "        Dense(128, kernel_regularizer=regularizers.l2(wd), activation=\"relu\"),\n",
        "        Dropout(rate),\n",
        "        Dense(128, kernel_regularizer=regularizers.l2(wd), activation=\"relu\"),\n",
        "        Dropout(rate),\n",
        "        Dense(128, kernel_regularizer=regularizers.l2(wd), activation=\"relu\"),\n",
        "        Dropout(rate),\n",
        "        Dense(128, kernel_regularizer=regularizers.l2(wd), activation=\"relu\"),\n",
        "        Dropout(rate),\n",
        "        Dense(1)\n",
        "    ])\n",
        "    return model"
      ],
      "execution_count": 14,
      "outputs": []
    },
    {
      "cell_type": "code",
      "metadata": {
        "id": "e7F6Bey7j83S"
      },
      "source": [
        "# Re-build the model with weight decay and dropout layers\n",
        "\n",
        "model = get_regularised_model(1e-5, 0.3)"
      ],
      "execution_count": 15,
      "outputs": []
    },
    {
      "cell_type": "code",
      "metadata": {
        "id": "2wtt_zjmj83S"
      },
      "source": [
        "# Compile the model\n",
        "\n",
        "model.compile(optimizer='adam', loss='mse', metrics=['mae'])"
      ],
      "execution_count": 16,
      "outputs": []
    },
    {
      "cell_type": "code",
      "metadata": {
        "id": "tUVopeXCj83S"
      },
      "source": [
        "# Train the model, with some of the data reserved for validation\n",
        "\n",
        "history = model.fit(train_data, train_targets, validation_split=0.15, batch_size=64, epochs=100, verbose=0)"
      ],
      "execution_count": 17,
      "outputs": []
    },
    {
      "cell_type": "code",
      "metadata": {
        "id": "xR56Auscj83S",
        "colab": {
          "base_uri": "https://localhost:8080/"
        },
        "outputId": "e42f3eda-8d21-431a-c7db-559fad0d6d0d"
      },
      "source": [
        "# Evaluate the model on the test set\n",
        "\n",
        "model.evaluate(test_data, test_targets, verbose=0)"
      ],
      "execution_count": 18,
      "outputs": [
        {
          "output_type": "execute_result",
          "data": {
            "text/plain": [
              "[0.6734691262245178, 0.6430071592330933]"
            ]
          },
          "metadata": {
            "tags": []
          },
          "execution_count": 18
        }
      ]
    },
    {
      "cell_type": "markdown",
      "metadata": {
        "id": "n0CWKaqqj83S"
      },
      "source": [
        "#### Plot the learning curves"
      ]
    },
    {
      "cell_type": "code",
      "metadata": {
        "id": "iTMxnVe1j83T",
        "colab": {
          "base_uri": "https://localhost:8080/",
          "height": 295
        },
        "outputId": "23509df0-32dc-4036-b6dc-a733394be671"
      },
      "source": [
        "# Plot the training and validation loss\n",
        "\n",
        "import matplotlib.pyplot as plt\n",
        "\n",
        "plt.plot(history.history['loss'])\n",
        "plt.plot(history.history['val_loss'])\n",
        "plt.title('Loss vs. epochs')\n",
        "plt.ylabel('Loss')\n",
        "plt.xlabel('Epoch')\n",
        "plt.legend(['Training', 'Validation'], loc='upper right')\n",
        "plt.show()"
      ],
      "execution_count": 19,
      "outputs": [
        {
          "output_type": "display_data",
          "data": {
            "image/png": "[encoded data removed]",
            "text/plain": [
              "<Figure size 432x288 with 1 Axes>"
            ]
          },
          "metadata": {
            "tags": [],
            "needs_background": "light"
          }
        }
      ]
    },
    {
      "cell_type": "markdown",
      "metadata": {
        "id": "sWYgd90Mj83T"
      },
      "source": [
        "***\n",
        "<a id=\"coding_tutorial_3\"></a>\n",
        "## Introduction to callbacks"
      ]
    },
    {
      "cell_type": "markdown",
      "metadata": {
        "id": "XzwZF_Pqj83T"
      },
      "source": [
        "#### Example training callback"
      ]
    },
    {
      "cell_type": "code",
      "metadata": {
        "id": "nh13BqoMj83T"
      },
      "source": [
        "# Write a custom callback\n",
        "from tensorflow.keras.callbacks import Callback\n",
        "\n",
        "class Training_callback(Callback):\n",
        "  def on_train_begin(self, logs=None):\n",
        "    print('Training start')\n",
        "\n",
        "  def on_epoch_begin(self, epoch, logs=None):\n",
        "    print(f'Epoch {epoch} starts')\n",
        "\n",
        "  def on_train_batch_begin(self, batch, logs=None):\n",
        "    print(f'Batch {batch} starts')\n",
        "\n",
        "  def on_train_batch_end(self, batch, logs=None):\n",
        "    print(f'Batch {batch} ends')\n",
        "\n",
        "  def on_epoch_end(self, epoch, logs=None):\n",
        "    print(f'Epoch {epoch} ends')\n",
        "\n",
        "  def on_train_end(self, logs=None):\n",
        "    print('Training ends')\n"
      ],
      "execution_count": 20,
      "outputs": []
    },
    {
      "cell_type": "code",
      "metadata": {
        "id": "6Wq9Gzydj83T"
      },
      "source": [
        "# Re-build the model\n",
        "\n",
        "model = get_regularised_model(1e-5, 0.3)"
      ],
      "execution_count": 21,
      "outputs": []
    },
    {
      "cell_type": "code",
      "metadata": {
        "id": "Qo-TbwNlj83T"
      },
      "source": [
        "# Compile the model\n",
        "\n",
        "model.compile(optimizer='adam', loss='mse')"
      ],
      "execution_count": 22,
      "outputs": []
    },
    {
      "cell_type": "markdown",
      "metadata": {
        "id": "vQpI4R7Ej83U"
      },
      "source": [
        "#### Train the model with the callback"
      ]
    },
    {
      "cell_type": "code",
      "metadata": {
        "id": "BA4sKfsEj83U",
        "colab": {
          "base_uri": "https://localhost:8080/"
        },
        "outputId": "256e8f30-0202-44bb-f3f7-afb53e8715c8"
      },
      "source": [
        "# Train the model, with some of the data reserved for validation\n",
        "\n",
        "model.fit(train_data, train_targets, epochs=3, batch_size=128, callbacks=[Training_callback()], verbose=2)"
      ],
      "execution_count": 23,
      "outputs": [
        {
          "output_type": "stream",
          "text": [
            "Training start\n",
            "Epoch 1/3\n",
            "Epoch 0 starts\n",
            "Batch 0 starts\n",
            "Batch 0 ends\n",
            "Batch 1 starts\n",
            "Batch 1 ends\n",
            "Batch 2 starts\n",
            "Batch 2 ends\n",
            "Batch 3 starts\n",
            "Batch 3 ends\n",
            "4/4 - 1s - loss: 1.0162\n",
            "Epoch 0 ends\n",
            "Epoch 2/3\n",
            "Epoch 1 starts\n",
            "Batch 0 starts\n",
            "Batch 0 ends\n",
            "Batch 1 starts\n",
            "Batch 1 ends\n",
            "Batch 2 starts\n",
            "Batch 2 ends\n",
            "Batch 3 starts\n",
            "Batch 3 ends\n",
            "4/4 - 0s - loss: 1.0074\n",
            "Epoch 1 ends\n",
            "Epoch 3/3\n",
            "Epoch 2 starts\n",
            "Batch 0 starts\n",
            "Batch 0 ends\n",
            "Batch 1 starts\n",
            "Batch 1 ends\n",
            "Batch 2 starts\n",
            "Batch 2 ends\n",
            "Batch 3 starts\n",
            "Batch 3 ends\n",
            "4/4 - 0s - loss: 0.9970\n",
            "Epoch 2 ends\n",
            "Training ends\n"
          ],
          "name": "stdout"
        },
        {
          "output_type": "execute_result",
          "data": {
            "text/plain": [
              "<tensorflow.python.keras.callbacks.History at 0x7fcf1b68e950>"
            ]
          },
          "metadata": {
            "tags": []
          },
          "execution_count": 23
        }
      ]
    },
    {
      "cell_type": "code",
      "metadata": {
        "id": "vFUmJrxWM3Ho"
      },
      "source": [
        "class Testing_callback(Callback):\n",
        "  def on_test_begin(self, logs=None):\n",
        "    print('Testing start')\n",
        "\n",
        "  def on_test_batch_begin(self, batch, logs=None):\n",
        "    print(f'Batch {batch} starts')\n",
        "\n",
        "  def on_test_batch_end(self, batch, logs=None):\n",
        "    print(f'Batch {batch} ends')\n",
        "\n",
        "  def on_test_end(self, logs=None):\n",
        "    print('Testing ends')\n"
      ],
      "execution_count": 24,
      "outputs": []
    },
    {
      "cell_type": "code",
      "metadata": {
        "id": "fG-HqDcmj83U",
        "colab": {
          "base_uri": "https://localhost:8080/"
        },
        "outputId": "4caacf07-e90d-4a84-98e7-f068503d3bc3"
      },
      "source": [
        "# Evaluate the model\n",
        "\n",
        "model.evaluate(test_data, test_targets, verbose=2, callbacks=[Testing_callback()])"
      ],
      "execution_count": 25,
      "outputs": [
        {
          "output_type": "stream",
          "text": [
            "Testing start\n",
            "Batch 0 starts\n",
            "Batch 0 ends\n",
            "Batch 1 starts\n",
            "Batch 1 ends\n",
            "2/2 - 0s - loss: 0.9138\n",
            "Testing ends\n"
          ],
          "name": "stdout"
        },
        {
          "output_type": "execute_result",
          "data": {
            "text/plain": [
              "0.9137585163116455"
            ]
          },
          "metadata": {
            "tags": []
          },
          "execution_count": 25
        }
      ]
    },
    {
      "cell_type": "code",
      "metadata": {
        "id": "5vnyesX7NOwS"
      },
      "source": [
        "class Prediction_callback(Callback):\n",
        "  def on_predict_begin(self, logs=None):\n",
        "    print('Prediction start')\n",
        "\n",
        "  def on_predict_batch_begin(self, batch, logs=None):\n",
        "    print(f'Batch {batch} starts')\n",
        "\n",
        "  def on_predict_batch_end(self, batch, logs=None):\n",
        "    print(f'Batch {batch} ends')\n",
        "\n",
        "  def on_predict_end(self, logs=None):\n",
        "    print('Prediction ends')"
      ],
      "execution_count": 26,
      "outputs": []
    },
    {
      "cell_type": "code",
      "metadata": {
        "id": "2kgnI5znj83U",
        "colab": {
          "base_uri": "https://localhost:8080/"
        },
        "outputId": "7bfac996-7221-4cc1-ec49-1a60116d9e40"
      },
      "source": [
        "# Make predictions with the model\n",
        "\n",
        "model.predict(test_data, verbose=2, callbacks=[Prediction_callback()])"
      ],
      "execution_count": 27,
      "outputs": [
        {
          "output_type": "stream",
          "text": [
            "Prediction start\n",
            "Batch 0 starts\n",
            "Batch 0 ends\n",
            "Batch 1 starts\n",
            "Batch 1 ends\n",
            "2/2 - 0s\n",
            "Prediction ends\n"
          ],
          "name": "stdout"
        },
        {
          "output_type": "execute_result",
          "data": {
            "text/plain": [
              "array([[0.06380541],\n",
              "       [0.07755601],\n",
              "       [0.11199065],\n",
              "       [0.08898897],\n",
              "       [0.04913283],\n",
              "       [0.08166628],\n",
              "       [0.0143605 ],\n",
              "       [0.02879586],\n",
              "       [0.02273765],\n",
              "       [0.06267607],\n",
              "       [0.03994486],\n",
              "       [0.01864883],\n",
              "       [0.07669346],\n",
              "       [0.03178388],\n",
              "       [0.07537795],\n",
              "       [0.03169953],\n",
              "       [0.1384358 ],\n",
              "       [0.01243746],\n",
              "       [0.09459057],\n",
              "       [0.06377777],\n",
              "       [0.0773668 ],\n",
              "       [0.04872447],\n",
              "       [0.09635731],\n",
              "       [0.01439975],\n",
              "       [0.03213387],\n",
              "       [0.02831908],\n",
              "       [0.0302244 ],\n",
              "       [0.01969949],\n",
              "       [0.03010421],\n",
              "       [0.09819242],\n",
              "       [0.11154386],\n",
              "       [0.06243548],\n",
              "       [0.02495967],\n",
              "       [0.09216893],\n",
              "       [0.05860312],\n",
              "       [0.01914253],\n",
              "       [0.0411036 ],\n",
              "       [0.02179172],\n",
              "       [0.07440442],\n",
              "       [0.10121611],\n",
              "       [0.04599643],\n",
              "       [0.07853118],\n",
              "       [0.01826365],\n",
              "       [0.0836705 ],\n",
              "       [0.11632819]], dtype=float32)"
            ]
          },
          "metadata": {
            "tags": []
          },
          "execution_count": 27
        }
      ]
    },
    {
      "cell_type": "markdown",
      "metadata": {
        "id": "77KtFXIjj83U"
      },
      "source": [
        "***\n",
        "<a id=\"coding_tutorial_4\"></a>\n",
        "## Early stopping / patience"
      ]
    },
    {
      "cell_type": "markdown",
      "metadata": {
        "id": "IsI4C_rJj83U"
      },
      "source": [
        "#### Re-train the models with early stopping"
      ]
    },
    {
      "cell_type": "code",
      "metadata": {
        "id": "zFnngxFFj83V",
        "colab": {
          "base_uri": "https://localhost:8080/"
        },
        "outputId": "6f5321f3-5c95-4916-dd5f-b1903fc8a97f"
      },
      "source": [
        "# Re-train the unregularised model\n",
        "unregularised_model = get_model()\n",
        "unregularised_model.compile(optimizer='adam', loss='mse')\n",
        "unregularised_history = unregularised_model.fit(train_data, train_targets,\n",
        "                  epochs=100, batch_size=64, validation_split=0.15, verbose=False,\n",
        "                  callbacks=[tf.keras.callbacks.EarlyStopping(patience=2)])\n"
      ],
      "execution_count": 35,
      "outputs": [
        {
          "output_type": "stream",
          "text": [
            "WARNING:tensorflow:5 out of the last 111 calls to <function Model.make_test_function.<locals>.test_function at 0x7fcf14142b90> triggered tf.function retracing. Tracing is expensive and the excessive number of tracings could be due to (1) creating @tf.function repeatedly in a loop, (2) passing tensors with different shapes, (3) passing Python objects instead of tensors. For (1), please define your @tf.function outside of the loop. For (2), @tf.function has experimental_relax_shapes=True option that relaxes argument shapes that can avoid unnecessary retracing. For (3), please refer to https://www.tensorflow.org/guide/function#controlling_retracing and https://www.tensorflow.org/api_docs/python/tf/function for  more details.\n"
          ],
          "name": "stdout"
        }
      ]
    },
    {
      "cell_type": "code",
      "metadata": {
        "id": "fSqd1XB_j83V",
        "colab": {
          "base_uri": "https://localhost:8080/"
        },
        "outputId": "1bc791a0-4460-494f-ec9d-eff465e56453"
      },
      "source": [
        "# Evaluate the model on the test set\n",
        "\n",
        "unregularised_model.evaluate(test_data, test_targets, verbose=2)"
      ],
      "execution_count": 36,
      "outputs": [
        {
          "output_type": "stream",
          "text": [
            "2/2 - 0s - loss: 0.7025\n"
          ],
          "name": "stdout"
        },
        {
          "output_type": "execute_result",
          "data": {
            "text/plain": [
              "0.70253586769104"
            ]
          },
          "metadata": {
            "tags": []
          },
          "execution_count": 36
        }
      ]
    },
    {
      "cell_type": "code",
      "metadata": {
        "id": "9-3p9GqDj83V"
      },
      "source": [
        "# Re-train the regularised model\n",
        "regularised_model = get_regularised_model(1e-8, 0.2)\n",
        "regularised_model.compile(optimizer='adam', loss='mse')\n",
        "regularised_history = regularised_model.fit(train_data, train_targets, \n",
        "                       epochs=100, batch_size=64, validation_split=0.15, verbose=False,\n",
        "                       callbacks=[tf.keras.callbacks.EarlyStopping(patience=2)])"
      ],
      "execution_count": 37,
      "outputs": []
    },
    {
      "cell_type": "code",
      "metadata": {
        "id": "lTRKRKFTj83V",
        "colab": {
          "base_uri": "https://localhost:8080/"
        },
        "outputId": "06f3e8a1-4289-427d-b355-8cdf1c8fd318"
      },
      "source": [
        "# Evaluate the model on the test set\n",
        "\n",
        "regularised_model.evaluate(test_data, test_targets, verbose=2)"
      ],
      "execution_count": 38,
      "outputs": [
        {
          "output_type": "stream",
          "text": [
            "2/2 - 0s - loss: 0.6626\n"
          ],
          "name": "stdout"
        },
        {
          "output_type": "execute_result",
          "data": {
            "text/plain": [
              "0.6626418232917786"
            ]
          },
          "metadata": {
            "tags": []
          },
          "execution_count": 38
        }
      ]
    },
    {
      "cell_type": "markdown",
      "metadata": {
        "id": "bAUQuh-Mj83V"
      },
      "source": [
        "#### Plot the learning curves"
      ]
    },
    {
      "cell_type": "code",
      "metadata": {
        "id": "ecgJU4Nrj83V",
        "colab": {
          "base_uri": "https://localhost:8080/",
          "height": 350
        },
        "outputId": "22fb64a2-56f1-42b2-8222-601bb375c106"
      },
      "source": [
        "# Plot the training and validation loss\n",
        "\n",
        "import matplotlib.pyplot as plt\n",
        "\n",
        "fig = plt.figure(figsize=(12, 5))\n",
        "\n",
        "fig.add_subplot(121)\n",
        "\n",
        "plt.plot(unregularised_history.history['loss'])\n",
        "plt.plot(unregularised_history.history['val_loss'])\n",
        "plt.title('Unregularised model: loss vs. epochs')\n",
        "plt.ylabel('Loss')\n",
        "plt.xlabel('Epoch')\n",
        "plt.legend(['Training', 'Validation'], loc='upper right')\n",
        "\n",
        "fig.add_subplot(122)\n",
        "\n",
        "plt.plot(regularised_history.history['loss'])\n",
        "plt.plot(regularised_history.history['val_loss'])\n",
        "plt.title('Regularised model: loss vs. epochs')\n",
        "plt.ylabel('Loss')\n",
        "plt.xlabel('Epoch')\n",
        "plt.legend(['Training', 'Validation'], loc='upper right')\n",
        "\n",
        "plt.show()"
      ],
      "execution_count": 40,
      "outputs": [
        {
          "output_type": "display_data",
          "data": {
            "image/png": "[encoded data removed]",
            "text/plain": [
              "<Figure size 864x360 with 2 Axes>"
            ]
          },
          "metadata": {
            "tags": [],
            "needs_background": "light"
          }
        }
      ]
    },
    {
      "cell_type": "code",
      "metadata": {
        "id": "SrpxKctL7KNq"
      },
      "source": [
        ""
      ],
      "execution_count": 32,
      "outputs": []
    }
  ]
}