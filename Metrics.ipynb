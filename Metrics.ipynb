{
  "nbformat": 4,
  "nbformat_minor": 0,
  "metadata": {
    "kernelspec": {
      "display_name": "Python 3",
      "language": "python",
      "name": "python3"
    },
    "language_info": {
      "codemirror_mode": {
        "name": "ipython",
        "version": 3
      },
      "file_extension": ".py",
      "mimetype": "text/x-python",
      "name": "python",
      "nbconvert_exporter": "python",
      "pygments_lexer": "ipython3",
      "version": "3.7.1"
    },
    "colab": {
      "name": "Metrics.ipynb",
      "provenance": [],
      "include_colab_link": true
    }
  },
  "cells": [
    {
      "cell_type": "markdown",
      "metadata": {
        "id": "view-in-github",
        "colab_type": "text"
      },
      "source": [
        "<a href=\"https://colab.research.google.com/github/QiliKiri/TensorFlow-2-for-Deep-Learning/blob/main/Metrics.ipynb\" target=\"_parent\"><img src=\"https://colab.research.google.com/assets/colab-badge.svg\" alt=\"Open In Colab\"/></a>"
      ]
    },
    {
      "cell_type": "markdown",
      "metadata": {
        "id": "EwOjWIW_PT8V"
      },
      "source": [
        "# Metrics in Keras"
      ]
    },
    {
      "cell_type": "markdown",
      "metadata": {
        "id": "NY22BKCWPT8Y"
      },
      "source": [
        "In this reading we will be exploring the different metrics in Keras that may be used to judge the performance of a model."
      ]
    },
    {
      "cell_type": "code",
      "metadata": {
        "id": "I9YxsgcyPT8b",
        "outputId": "a1c9ec65-9401-4361-f91e-acdf323e1498",
        "colab": {
          "base_uri": "https://localhost:8080/"
        }
      },
      "source": [
        "import tensorflow as tf\n",
        "from tensorflow.keras.models import Sequential\n",
        "from tensorflow.keras.layers import Dense, Flatten\n",
        "import tensorflow.keras.backend as K\n",
        "print(tf.__version__)"
      ],
      "execution_count": 1,
      "outputs": [
        {
          "output_type": "stream",
          "text": [
            "2.5.0\n"
          ],
          "name": "stdout"
        }
      ]
    },
    {
      "cell_type": "markdown",
      "metadata": {
        "id": "pyQO0ckTPT8e"
      },
      "source": [
        "One of the most common metrics used for classification problems in Keras is `'accuracy'`. \n",
        "\n",
        "We will begin with a simple example of a model that uses accuracy as a metric."
      ]
    },
    {
      "cell_type": "code",
      "metadata": {
        "id": "MCITrERfPT8h"
      },
      "source": [
        "# Build the model\n",
        "\n",
        "model = Sequential([\n",
        "  Flatten(input_shape=(28,28)),\n",
        "  Dense(32, activation='relu'),\n",
        "  Dense(32, activation='tanh'),\n",
        "  Dense(10, activation='softmax'),\n",
        "])"
      ],
      "execution_count": 2,
      "outputs": []
    },
    {
      "cell_type": "code",
      "metadata": {
        "id": "KVFJVaN5PT8j"
      },
      "source": [
        "# Compile the model\n",
        "\n",
        "model.compile(optimizer='adam',\n",
        "              loss='sparse_categorical_crossentropy',\n",
        "              metrics=['accuracy'])"
      ],
      "execution_count": 3,
      "outputs": []
    },
    {
      "cell_type": "markdown",
      "metadata": {
        "id": "eMWsCfxKPT8l"
      },
      "source": [
        "We now have a model that uses accuracy as a metric to judge its performance.\n",
        "\n",
        "But how is this metric actually calculated? We will break our discussion into two cases.\n"
      ]
    },
    {
      "cell_type": "markdown",
      "metadata": {
        "id": "oG2pS1yvPT8p"
      },
      "source": [
        "### Case 1 - Binary Classification with sigmoid activation function\n",
        "Suppose we are training a model for a binary classification problem with a sigmoid activation function (softmax activation functions are covered in the next case). \n",
        "\n",
        "Given a training example with input $x^{(i)}$, the model will output a float between 0 and 1. Based on whether this float is less than or greater than our \"threshold\" (which by default is set at 0.5), we round the float to get the predicted classification $y_{pred}$ from the model.\n",
        "\n",
        "The accuracy metric compares the value of $y_{pred}$ on each training example with the true output, the one-hot coded vector $y_{true}^{(i)}$ from our training data.\n",
        "\n",
        "Let $$\\delta(y_{pred}^{(i)},y_{true}^{(i)}) = \\begin{cases} 1 & y_{pred}=y_{true}\\\\\n",
        "0 & y_{pred}\\neq y_{true} \\end{cases}$$\n",
        "\n",
        "The accuracy metric  computes the mean of $\\delta(y_{pred}^{(i)},y_{true}^{(i)})$ over all training examples.\n",
        "\n",
        "$$ accuracy = \\frac{1}{N} \\sum_{i=1}^N \\delta(y_{pred}^{(i)},y_{true}^{(i)}) $$\n",
        "\n",
        "This is implemented in the backend of Keras as follows. \n",
        "Note: We have set $y_{true}$ and $y_{pred}$ ourselves for the purposes of this example."
      ]
    },
    {
      "cell_type": "code",
      "metadata": {
        "id": "sv3XuPOuPT8t",
        "outputId": "ab8638b5-986b-4d3e-da02-f34dc4c5ef08",
        "colab": {
          "base_uri": "https://localhost:8080/"
        }
      },
      "source": [
        "# Sigmoid activation function\n",
        "\n",
        "y_true = tf.constant([0.0,1.0,1.0])\n",
        "y_pred = tf.constant([0.4,0.8, 0.3])\n",
        "accuracy = K.mean(K.equal(y_true, K.round(y_pred)))\n",
        "accuracy"
      ],
      "execution_count": 4,
      "outputs": [
        {
          "output_type": "execute_result",
          "data": {
            "text/plain": [
              "<tf.Tensor: shape=(), dtype=float32, numpy=0.6666667>"
            ]
          },
          "metadata": {
            "tags": []
          },
          "execution_count": 4
        }
      ]
    },
    {
      "cell_type": "markdown",
      "metadata": {
        "id": "ZVjo2anBPT8x"
      },
      "source": [
        "### Case 2 - Categorical Classification\n",
        "Now suppose we are training a model for a classification problem which should sort data into $m>2$ different classes using a softmax activation function in the last layer.\n",
        "\n",
        "Given a training example with input $x^{(i)}$, the model will output a tensor of probabilities $p_1, p_2, \\dots p_m$, giving the likelihood (according to the model) that $x^{(i)}$ falls into each class.\n",
        "\n",
        "The accuracy metric works by determining the largest argument in the $y_{pred}^{(i)}$ tensor, and compares its index to the index of the maximum value of $y_{true}^{(i)}$ to determine $\\delta(y_{pred}^{(i)},y_{true}^{(i)})$. It then computes the accuracy in the same way as for the binary classification case.\n",
        "\n",
        "$$ accuracy = \\frac{1}{N} \\sum_{i=1}^N \\delta(y_{pred}^{(i)},y_{true}^{(i)}) $$\n",
        "\n",
        "In the backend of Keras, the accuracy metric is implemented slightly differently depending on whether we have a binary classification problem ($m=2$) or a categorical classifcation problem. Note that the accuracy for binary classification problems is the same, no matter if we use a sigmoid or softmax activation function to obtain the output.\n"
      ]
    },
    {
      "cell_type": "code",
      "metadata": {
        "id": "rBfLDvv6PT8z",
        "outputId": "f74962e1-9428-4a7a-82cd-218138763e87",
        "colab": {
          "base_uri": "https://localhost:8080/"
        }
      },
      "source": [
        "# Binary classification with softmax\n",
        "\n",
        "y_true = tf.constant([[0.0,1.0],[1.0,0.0],[1.0,0.0],[0.0,1.0]])\n",
        "y_pred = tf.constant([[0.4,0.6], [0.3,0.7], [0.05,0.95],[0.33,0.67]])\n",
        "accuracy =K.mean(K.equal(y_true, K.round(y_pred)))\n",
        "accuracy"
      ],
      "execution_count": 5,
      "outputs": [
        {
          "output_type": "execute_result",
          "data": {
            "text/plain": [
              "<tf.Tensor: shape=(), dtype=float32, numpy=0.5>"
            ]
          },
          "metadata": {
            "tags": []
          },
          "execution_count": 5
        }
      ]
    },
    {
      "cell_type": "code",
      "metadata": {
        "id": "0GPnIqHnPT81",
        "outputId": "ebe1f162-2a9b-4705-fc50-4fc37919a917",
        "colab": {
          "base_uri": "https://localhost:8080/"
        }
      },
      "source": [
        "# Categorical classification with m>2\n",
        "\n",
        "y_true = tf.constant([[0.0,1.0,0.0,0.0],[1.0,0.0,0.0,0.0],[0.0,0.0,1.0,0.0]])\n",
        "y_pred = tf.constant([[0.4,0.6,0.0,0.0], [0.3,0.2,0.1,0.4], [0.05,0.35,0.5,0.1]])\n",
        "accuracy = K.mean(K.equal(K.argmax(y_true, axis=-1), K.argmax(y_pred, axis=-1)))\n",
        "accuracy"
      ],
      "execution_count": 6,
      "outputs": [
        {
          "output_type": "execute_result",
          "data": {
            "text/plain": [
              "<tf.Tensor: shape=(), dtype=float32, numpy=0.6666667>"
            ]
          },
          "metadata": {
            "tags": []
          },
          "execution_count": 6
        }
      ]
    },
    {
      "cell_type": "markdown",
      "metadata": {
        "id": "KurmoRdLPT82"
      },
      "source": [
        "## Other examples of metrics\n",
        "We will now look at some other metrics in Keras. A full list is available at <https://keras.io/metrics/>."
      ]
    },
    {
      "cell_type": "markdown",
      "metadata": {
        "id": "_xVkrRekPT84"
      },
      "source": [
        "### Binary accuracy and categorical accuracy\n",
        "The `binary_accuracy` and `categorical_accuracy` metrics are, by default, identical to the Case 1 and 2 respectively of the `accuracy` metric explained above. \n",
        "\n",
        "However, using `binary_accuracy` allows you to use the optional `threshold` argument, which sets the minimum value of $y_{pred}$ which will be rounded to 1. As mentioned above, it is set as `threshold=0.5` by default.\n",
        "\n",
        "Below we give some examples of how to compile a model with `binary_accuracy` with and without a threshold."
      ]
    },
    {
      "cell_type": "code",
      "metadata": {
        "id": "k-fd9MC9PT86"
      },
      "source": [
        "# Compile the model with default threshold (=0.5)\n",
        "\n",
        "model.compile(optimizer='adam',\n",
        "              loss='sparse_categorical_crossentropy',\n",
        "              metrics=['binary_accuracy'])"
      ],
      "execution_count": 7,
      "outputs": []
    },
    {
      "cell_type": "code",
      "metadata": {
        "id": "4sr44vkIPT87"
      },
      "source": [
        "# The threshold can be specified as follows\n",
        "\n",
        "model.compile(optimizer='adam',\n",
        "              loss='sparse_categorical_crossentropy',\n",
        "              metrics=[tf.keras.metrics.BinaryAccuracy(threshold=0.5)])"
      ],
      "execution_count": 8,
      "outputs": []
    },
    {
      "cell_type": "markdown",
      "metadata": {
        "id": "rwqQZnW4PT88"
      },
      "source": [
        "### Sparse categorical accuracy\n",
        "\n",
        "This is a very similar metric to categorical accuracy with one major difference - the label $y_{true}$ of each training example is not expected to be a one-hot encoded vector, but to be a tensor consisting of a single integer. This integer is then compared to the index of the maximum argument of $y_{pred}$ to determine $\\delta(y_{pred}^{(i)},y_{true}^{(i)})$."
      ]
    },
    {
      "cell_type": "code",
      "metadata": {
        "id": "oIcL1p2yPT88"
      },
      "source": [
        "#Two examples of compiling a model with \n",
        "#a sparse categorical accuracy metric.\n",
        "model.compile(optimizer='adam',\n",
        "              loss='sparse_categorical_crossentropy',\n",
        "              metrics=[\"sparse_categorical_accuracy\"])\n",
        "\n",
        "model.compile(optimizer='adam',\n",
        "              loss='sparse_categorical_crossentropy',\n",
        "              metrics=[tf.keras.metrics.SparseCategoricalAccuracy()])"
      ],
      "execution_count": 9,
      "outputs": []
    },
    {
      "cell_type": "markdown",
      "metadata": {
        "id": "FcOpL8ZXPT89"
      },
      "source": [
        "### (Sparse) Top $k$-categorical accuracy \n",
        "In top $k$-categorical accuracy, instead of computing how often the model correctly predicts the label of a training example, the metric computes how often the model has $y_{true}$ in the top $k$ of its predictions. By default, $k=5$.\n",
        "\n",
        "As before, the main difference between top $k$-categorical accuracy and its sparse version is that the former assumes $y_{true}$ is a one-hot encoded vector, whereas the sparse version assumes $y_{true}$ is an integer."
      ]
    },
    {
      "cell_type": "code",
      "metadata": {
        "id": "mTa0p83sPT8-"
      },
      "source": [
        "# Compile a model with a top-k categorical accuracy metric with default k (=5)\n",
        "\n",
        "model.compile(optimizer='adam',\n",
        "              loss='sparse_categorical_crossentropy',\n",
        "              metrics=[\"top_k_categorical_accuracy\"])"
      ],
      "execution_count": 10,
      "outputs": []
    },
    {
      "cell_type": "code",
      "metadata": {
        "id": "fVa7XOlTPT8_"
      },
      "source": [
        "# Specify k instead with the sparse top-k categorical accuracy\n",
        "\n",
        "model.compile(optimizer='adam',\n",
        "              loss='sparse_categorical_crossentropy',\n",
        "              metrics=[tf.keras.metrics.SparseTopKCategoricalAccuracy(k=3)])"
      ],
      "execution_count": 11,
      "outputs": []
    },
    {
      "cell_type": "markdown",
      "metadata": {
        "id": "EARmZL3RPT9A"
      },
      "source": [
        "## Custom metrics\n",
        "It is also possible to define your own custom metric in Keras.\n",
        "You will need to make sure that your metric takes in (at least) two arguments called `y_true` and `y_pred` and then output a single tensor value."
      ]
    },
    {
      "cell_type": "code",
      "metadata": {
        "id": "QDFBakztPT9B"
      },
      "source": [
        "# Define a custom metric\n",
        "\n",
        "def mean_pred(y_true, y_pred):\n",
        "    return K.mean(y_pred)"
      ],
      "execution_count": 12,
      "outputs": []
    },
    {
      "cell_type": "markdown",
      "metadata": {
        "id": "lgpnYqAqPT9C"
      },
      "source": [
        "We can then use this metric when we compile our model as follows."
      ]
    },
    {
      "cell_type": "code",
      "metadata": {
        "id": "Ef81zVDkPT9D"
      },
      "source": [
        "# Specify k instead with the sparse top-k categorical accuracy\n",
        "\n",
        "model.compile(optimizer='adam',\n",
        "              loss='sparse_categorical_crossentropy',\n",
        "              metrics=[mean_pred])"
      ],
      "execution_count": 13,
      "outputs": []
    },
    {
      "cell_type": "markdown",
      "metadata": {
        "id": "YTqo3VP3PT9D"
      },
      "source": [
        "## Multiple metrics\n",
        "Finally, it is possible to use multiple metrics to judge the performance of your model. \n",
        "\n",
        "\n",
        "Here's an example:"
      ]
    },
    {
      "cell_type": "code",
      "metadata": {
        "id": "WhG5XBQUPT9E"
      },
      "source": [
        "model.compile(optimizer='adam',\n",
        "              loss='sparse_categorical_crossentropy',\n",
        "              metrics=[mean_pred, \"accuracy\",tf.keras.metrics.SparseTopKCategoricalAccuracy(k=3)])"
      ],
      "execution_count": 14,
      "outputs": []
    },
    {
      "cell_type": "markdown",
      "metadata": {
        "id": "Y9k6HegCPT9E"
      },
      "source": [
        "### Sources and Further Reading\n",
        "* The metrics page on the Keras website: https://keras.io/metrics/\n",
        "* The source code for the metrics: https://github.com/keras-team/keras/blob/master/keras/metrics.py\n"
      ]
    }
  ]
}